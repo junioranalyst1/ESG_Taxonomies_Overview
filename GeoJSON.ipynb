{
 "cells": [
  {
   "cell_type": "code",
   "execution_count": 4,
   "metadata": {},
   "outputs": [
    {
     "name": "stdout",
     "output_type": "stream",
     "text": [
      "Country: Colombia\n"
     ]
    },
    {
     "ename": "KeyError",
     "evalue": "'geometry'",
     "output_type": "error",
     "traceback": [
      "\u001b[0;31m---------------------------------------------------------------------------\u001b[0m",
      "\u001b[0;31mKeyError\u001b[0m                                  Traceback (most recent call last)",
      "Cell \u001b[0;32mIn[4], line 24\u001b[0m\n\u001b[1;32m     22\u001b[0m \u001b[39mif\u001b[39;00m country_data:\n\u001b[1;32m     23\u001b[0m     \u001b[39mprint\u001b[39m(\u001b[39mf\u001b[39m\u001b[39m\"\u001b[39m\u001b[39mCountry: \u001b[39m\u001b[39m{\u001b[39;00mcountry\u001b[39m}\u001b[39;00m\u001b[39m\"\u001b[39m)\n\u001b[0;32m---> 24\u001b[0m     \u001b[39mprint\u001b[39m(\u001b[39m\"\u001b[39m\u001b[39mGeometry:\u001b[39m\u001b[39m\"\u001b[39m, country_data[\u001b[39m\"\u001b[39;49m\u001b[39mgeometry\u001b[39;49m\u001b[39m\"\u001b[39;49m])\n\u001b[1;32m     25\u001b[0m     \u001b[39mprint\u001b[39m(\u001b[39m\"\u001b[39m\u001b[39m\\n\u001b[39;00m\u001b[39m\"\u001b[39m)\n\u001b[1;32m     26\u001b[0m \u001b[39melse\u001b[39;00m:\n",
      "\u001b[0;31mKeyError\u001b[0m: 'geometry'"
     ]
    }
   ],
   "source": [
    "import requests\n",
    "\n",
    "def get_country_geometry(country_name):\n",
    "    url = f\"https://nominatim.openstreetmap.org/search?q={country_name}&format=geojson\"\n",
    "    response = requests.get(url)\n",
    "    if response.status_code == 200:\n",
    "        data = response.json()\n",
    "        return data\n",
    "    else:\n",
    "        return None\n",
    "\n",
    "# Example usage:\n",
    "countries = [\n",
    "    \"Colombia\", \"Mongolia\", \"China\", \"Japan\", \"Malaysia\", \"Austria\", \"Belgium\", \"Bulgaria\",\n",
    "    \"Croatia\", \"Republic of Cyprus\", \"Czech Republic\", \"Denmark\", \"Estonia\", \"Finland\", \"France\",\n",
    "    \"Germany\", \"Greece\", \"Hungary\", \"Ireland\", \"Italy\", \"Latvia\", \"Lithuania\", \"Luxembourg\",\n",
    "    \"Malta\", \"Netherlands\", \"Poland\", \"Portugal\", \"Romania\", \"Slovakia\", \"Slovenia\", \"Spain\", \"Sweden\"\n",
    "]\n",
    "\n",
    "for country in countries:\n",
    "    country_data = get_country_geometry(country)\n",
    "    if country_data:\n",
    "        print(f\"Country: {country}\")\n",
    "        print(\"Geometry:\", country_data[\"geometry\"])\n",
    "        print(\"\\n\")\n",
    "    else:\n",
    "        print(f\"Error: Could not fetch data for {country}\")\n"
   ]
  }
 ],
 "metadata": {
  "kernelspec": {
   "display_name": "Python 3",
   "language": "python",
   "name": "python3"
  },
  "language_info": {
   "codemirror_mode": {
    "name": "ipython",
    "version": 3
   },
   "file_extension": ".py",
   "mimetype": "text/x-python",
   "name": "python",
   "nbconvert_exporter": "python",
   "pygments_lexer": "ipython3",
   "version": "3.11.4"
  },
  "orig_nbformat": 4
 },
 "nbformat": 4,
 "nbformat_minor": 2
}
